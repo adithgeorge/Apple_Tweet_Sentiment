{
 "cells": [
  {
   "cell_type": "markdown",
   "metadata": {},
   "source": [
    "## Introduction"
   ]
  },
  {
   "cell_type": "markdown",
   "metadata": {},
   "source": [
    "In the following notebook we are going to be **create a pipeline and model** for sentiment analysis on a collection of tweets about Apple Inc. After preprocessing, the tweets are labeled as either positive (i.e. I love the new iMac) or negative. (i.e. Apple has bad work poilicies!)"
   ]
  },
  {
   "cell_type": "markdown",
   "metadata": {},
   "source": [
    "## Data Description\n",
    "\n",
    "* Tweet Sentiment: Positive Sentiment = 1, Negative Sentiment = 0\n",
    "* Sentiment Confidence: Range of (0,1) describing the confidence of the sentiment assignment.\n",
    "* Text: Text composition of the tweet"
   ]
  },
  {
   "cell_type": "markdown",
   "metadata": {},
   "source": [
    "### Importing Libraries "
   ]
  },
  {
   "cell_type": "code",
   "execution_count": 12,
   "metadata": {},
   "outputs": [],
   "source": [
    "import nltk\n",
    "import pandas as pd\n",
    "import re\n",
    "import matplotlib.pyplot as plt\n",
    "import seaborn as sns\n",
    "import os\n",
    "import warnings\n",
    "warnings.filterwarnings('ignore')"
   ]
  },
  {
   "cell_type": "markdown",
   "metadata": {},
   "source": [
    "### Reading the Dataset"
   ]
  },
  {
   "cell_type": "code",
   "execution_count": 13,
   "metadata": {},
   "outputs": [
    {
     "data": {
      "text/html": [
       "<div>\n",
       "<style scoped>\n",
       "    .dataframe tbody tr th:only-of-type {\n",
       "        vertical-align: middle;\n",
       "    }\n",
       "\n",
       "    .dataframe tbody tr th {\n",
       "        vertical-align: top;\n",
       "    }\n",
       "\n",
       "    .dataframe thead th {\n",
       "        text-align: right;\n",
       "    }\n",
       "</style>\n",
       "<table border=\"1\" class=\"dataframe\">\n",
       "  <thead>\n",
       "    <tr style=\"text-align: right;\">\n",
       "      <th></th>\n",
       "      <th>sentiment</th>\n",
       "      <th>sentiment_confidence</th>\n",
       "      <th>text</th>\n",
       "    </tr>\n",
       "  </thead>\n",
       "  <tbody>\n",
       "    <tr>\n",
       "      <th>0</th>\n",
       "      <td>1</td>\n",
       "      <td>0.8468</td>\n",
       "      <td>top 3 all   tablets  damn right!</td>\n",
       "    </tr>\n",
       "    <tr>\n",
       "      <th>1</th>\n",
       "      <td>1</td>\n",
       "      <td>0.6736</td>\n",
       "      <td>cnbctv   apple's margins better than expected?...</td>\n",
       "    </tr>\n",
       "    <tr>\n",
       "      <th>2</th>\n",
       "      <td>0</td>\n",
       "      <td>1.0000</td>\n",
       "      <td>wtf my battery was 31  one second ago and now ...</td>\n",
       "    </tr>\n",
       "    <tr>\n",
       "      <th>3</th>\n",
       "      <td>1</td>\n",
       "      <td>1.0000</td>\n",
       "      <td>rt  bought my  at the  store  pretty good logo...</td>\n",
       "    </tr>\n",
       "    <tr>\n",
       "      <th>4</th>\n",
       "      <td>0</td>\n",
       "      <td>1.0000</td>\n",
       "      <td>contact sync between yosemite and ios8 is ser...</td>\n",
       "    </tr>\n",
       "  </tbody>\n",
       "</table>\n",
       "</div>"
      ],
      "text/plain": [
       "   sentiment  sentiment_confidence  \\\n",
       "0          1                0.8468   \n",
       "1          1                0.6736   \n",
       "2          0                1.0000   \n",
       "3          1                1.0000   \n",
       "4          0                1.0000   \n",
       "\n",
       "                                                text  \n",
       "0                  top 3 all   tablets  damn right!   \n",
       "1  cnbctv   apple's margins better than expected?...  \n",
       "2  wtf my battery was 31  one second ago and now ...  \n",
       "3  rt  bought my  at the  store  pretty good logo...  \n",
       "4   contact sync between yosemite and ios8 is ser...  "
      ]
     },
     "execution_count": 13,
     "metadata": {},
     "output_type": "execute_result"
    }
   ],
   "source": [
    "df = pd.read_csv('clean_apple.csv',encoding='latin-1',index_col=0)\n",
    "df.head()"
   ]
  },
  {
   "cell_type": "markdown",
   "metadata": {},
   "source": [
    "## Data Tokenisation"
   ]
  },
  {
   "cell_type": "code",
   "execution_count": 14,
   "metadata": {},
   "outputs": [
    {
     "data": {
      "text/html": [
       "<div>\n",
       "<style scoped>\n",
       "    .dataframe tbody tr th:only-of-type {\n",
       "        vertical-align: middle;\n",
       "    }\n",
       "\n",
       "    .dataframe tbody tr th {\n",
       "        vertical-align: top;\n",
       "    }\n",
       "\n",
       "    .dataframe thead th {\n",
       "        text-align: right;\n",
       "    }\n",
       "</style>\n",
       "<table border=\"1\" class=\"dataframe\">\n",
       "  <thead>\n",
       "    <tr style=\"text-align: right;\">\n",
       "      <th></th>\n",
       "      <th>sentiment</th>\n",
       "      <th>sentiment_confidence</th>\n",
       "      <th>text</th>\n",
       "      <th>tokens</th>\n",
       "    </tr>\n",
       "  </thead>\n",
       "  <tbody>\n",
       "    <tr>\n",
       "      <th>0</th>\n",
       "      <td>1</td>\n",
       "      <td>0.8468</td>\n",
       "      <td>top 3 all   tablets  damn right!</td>\n",
       "      <td>[top, 3, all, tablets, damn, right]</td>\n",
       "    </tr>\n",
       "    <tr>\n",
       "      <th>1</th>\n",
       "      <td>1</td>\n",
       "      <td>0.6736</td>\n",
       "      <td>cnbctv   apple's margins better than expected?...</td>\n",
       "      <td>[cnbctv, apple, s, margins, better, than, expe...</td>\n",
       "    </tr>\n",
       "    <tr>\n",
       "      <th>2</th>\n",
       "      <td>0</td>\n",
       "      <td>1.0000</td>\n",
       "      <td>wtf my battery was 31  one second ago and now ...</td>\n",
       "      <td>[wtf, my, battery, was, 31, one, second, ago, ...</td>\n",
       "    </tr>\n",
       "    <tr>\n",
       "      <th>3</th>\n",
       "      <td>1</td>\n",
       "      <td>1.0000</td>\n",
       "      <td>rt  bought my  at the  store  pretty good logo...</td>\n",
       "      <td>[rt, bought, my, at, the, store, pretty, good,...</td>\n",
       "    </tr>\n",
       "    <tr>\n",
       "      <th>4</th>\n",
       "      <td>0</td>\n",
       "      <td>1.0000</td>\n",
       "      <td>contact sync between yosemite and ios8 is ser...</td>\n",
       "      <td>[contact, sync, between, yosemite, and, ios8, ...</td>\n",
       "    </tr>\n",
       "  </tbody>\n",
       "</table>\n",
       "</div>"
      ],
      "text/plain": [
       "   sentiment  sentiment_confidence  \\\n",
       "0          1                0.8468   \n",
       "1          1                0.6736   \n",
       "2          0                1.0000   \n",
       "3          1                1.0000   \n",
       "4          0                1.0000   \n",
       "\n",
       "                                                text  \\\n",
       "0                  top 3 all   tablets  damn right!    \n",
       "1  cnbctv   apple's margins better than expected?...   \n",
       "2  wtf my battery was 31  one second ago and now ...   \n",
       "3  rt  bought my  at the  store  pretty good logo...   \n",
       "4   contact sync between yosemite and ios8 is ser...   \n",
       "\n",
       "                                              tokens  \n",
       "0                [top, 3, all, tablets, damn, right]  \n",
       "1  [cnbctv, apple, s, margins, better, than, expe...  \n",
       "2  [wtf, my, battery, was, 31, one, second, ago, ...  \n",
       "3  [rt, bought, my, at, the, store, pretty, good,...  \n",
       "4  [contact, sync, between, yosemite, and, ios8, ...  "
      ]
     },
     "execution_count": 14,
     "metadata": {},
     "output_type": "execute_result"
    }
   ],
   "source": [
    "from nltk.tokenize import RegexpTokenizer\n",
    "\n",
    "## NLTK tokenizer\n",
    "\n",
    "tokenizer = RegexpTokenizer(r'\\w+')     ## This regular expression breaks a line into words\n",
    "df['tokens'] = df['text'].apply(tokenizer.tokenize)\n",
    "df.head()"
   ]
  },
  {
   "cell_type": "markdown",
   "metadata": {},
   "source": [
    "## Bag Of Words"
   ]
  },
  {
   "cell_type": "code",
   "execution_count": 15,
   "metadata": {},
   "outputs": [],
   "source": [
    "from sklearn.model_selection import train_test_split\n",
    "from sklearn.feature_extraction.text import TfidfVectorizer\n",
    "\n",
    "X = df['text']\n",
    "y = df['sentiment']\n",
    "sent_confidence = df['sentiment_confidence']\n",
    "\n",
    "## We can see save the processed data if needed into a new file."
   ]
  },
  {
   "cell_type": "code",
   "execution_count": 16,
   "metadata": {},
   "outputs": [
    {
     "name": "stdout",
     "output_type": "stream",
     "text": [
      "1236    for a limited time, the ibookstore is offering...\n",
      "1521    the hell does this mean  one day skype won't l...\n",
      "1315    why does  yosemite constantly restart due to a...\n",
      "31        what a joke! justice dept should prosecute k...\n",
      "938     rt  hey  how about you guys make a charger tha...\n",
      "Name: text, dtype: object\n"
     ]
    }
   ],
   "source": [
    "## Splitting data for cross train test split\n",
    "\n",
    "X_train, X_test, y_train, y_test = train_test_split(X, y, test_size = 0.3, random_state = 42) \n",
    "print(X_train[:5])"
   ]
  },
  {
   "cell_type": "code",
   "execution_count": 17,
   "metadata": {},
   "outputs": [],
   "source": [
    "## Vectorization of the training data with TFIDF and scikit learn\n",
    "\n",
    "vect = TfidfVectorizer()\n",
    "X_train_tfidf = vect.fit_transform(X_train)\n",
    "X_test_tfidf = vect.transform(X_test)"
   ]
  },
  {
   "cell_type": "code",
   "execution_count": 18,
   "metadata": {},
   "outputs": [
    {
     "data": {
      "text/plain": [
       "<1x2976 sparse matrix of type '<class 'numpy.float64'>'\n",
       "\twith 13 stored elements in Compressed Sparse Row format>"
      ]
     },
     "execution_count": 18,
     "metadata": {},
     "output_type": "execute_result"
    }
   ],
   "source": [
    "X_train_tfidf[0]"
   ]
  },
  {
   "cell_type": "code",
   "execution_count": 19,
   "metadata": {},
   "outputs": [],
   "source": [
    "## Vectorisation of the complete data for cross validation and training\n",
    "\n",
    "vect = TfidfVectorizer()\n",
    "X_tfidf = vect.fit_transform(X)"
   ]
  },
  {
   "cell_type": "markdown",
   "metadata": {},
   "source": [
    "## Model Building"
   ]
  },
  {
   "cell_type": "code",
   "execution_count": 20,
   "metadata": {},
   "outputs": [],
   "source": [
    "from sklearn.model_selection import cross_val_predict\n",
    "from sklearn.metrics import classification_report,confusion_matrix"
   ]
  },
  {
   "cell_type": "markdown",
   "metadata": {},
   "source": [
    "From spot checking algorithms and through cross validation and hyperparameter tuning we were able to find the best model for the dataset with the highest accuracy."
   ]
  },
  {
   "cell_type": "markdown",
   "metadata": {},
   "source": [
    "### Support Vector Machine"
   ]
  },
  {
   "cell_type": "code",
   "execution_count": 21,
   "metadata": {},
   "outputs": [
    {
     "data": {
      "application/javascript": [
       "\n",
       "        if (window._pyforest_update_imports_cell) { window._pyforest_update_imports_cell('from sklearn import svm'); }\n",
       "    "
      ],
      "text/plain": [
       "<IPython.core.display.Javascript object>"
      ]
     },
     "metadata": {},
     "output_type": "display_data"
    },
    {
     "name": "stderr",
     "output_type": "stream",
     "text": [
      "[Parallel(n_jobs=-1)]: Using backend LokyBackend with 4 concurrent workers.\n",
      "[Parallel(n_jobs=-1)]: Done  10 out of  10 | elapsed:    4.4s finished\n"
     ]
    }
   ],
   "source": [
    "model_best = svm.SVC(C=1, cache_size=200, class_weight=None, coef0=0.0, decision_function_shape='ovr', degree=2, gamma=0.1, kernel='linear',\n",
    "                  max_iter=-1, probability=False, random_state=42, shrinking=True, tol=0.001, verbose=False)\n",
    "\n",
    "model_best.fit(X_tfidf,y)\n",
    "prediction = cross_val_predict(model_best,X_tfidf,y, cv=10, verbose = 1,n_jobs =-1)"
   ]
  },
  {
   "cell_type": "code",
   "execution_count": 22,
   "metadata": {},
   "outputs": [
    {
     "data": {
      "image/png": "[encoded data removed]",
      "text/plain": [
       "<Figure size 432x288 with 2 Axes>"
      ]
     },
     "metadata": {
      "needs_background": "light"
     },
     "output_type": "display_data"
    },
    {
     "name": "stdout",
     "output_type": "stream",
     "text": [
      "\n",
      " Classification Report for SVM: \n",
      "                precision    recall  f1-score   support\n",
      "\n",
      "           0       0.83      0.96      0.89      1219\n",
      "           1       0.80      0.44      0.57       423\n",
      "\n",
      "    accuracy                           0.83      1642\n",
      "   macro avg       0.82      0.70      0.73      1642\n",
      "weighted avg       0.82      0.83      0.81      1642\n",
      "\n"
     ]
    }
   ],
   "source": [
    "sns.heatmap(confusion_matrix(y,prediction),cmap='summer',annot=True,fmt='2.0f')\n",
    "plt.show()\n",
    "print(\"\\n Classification Report for SVM: \\n \",classification_report(y,prediction))"
   ]
  },
  {
   "cell_type": "markdown",
   "metadata": {},
   "source": [
    "## Model Pipeline"
   ]
  },
  {
   "cell_type": "code",
   "execution_count": 23,
   "metadata": {},
   "outputs": [],
   "source": [
    "from sklearn.pipeline import Pipeline\n",
    "from sklearn.feature_extraction.text import TfidfVectorizer\n",
    "from sklearn.base import BaseEstimator, TransformerMixin\n",
    "from sklearn import metrics"
   ]
  },
  {
   "cell_type": "code",
   "execution_count": 24,
   "metadata": {},
   "outputs": [],
   "source": [
    "## Removes special strings and non text\n",
    "\n",
    "class preprocess_text(BaseEstimator, TransformerMixin):\n",
    "    \n",
    "    def __init__(self):\n",
    "        pass\n",
    "    \n",
    "    def fit(self, X, y = None):\n",
    "        return self\n",
    "    \n",
    "    def transform(self, X):\n",
    "        \n",
    "        if isinstance(X,pd.Series):\n",
    "            X = X.copy()\n",
    "            X = X.str.replace(r\"http\\S+\", \"\")\n",
    "            X = X.str.replace(r\"http\", \"\")\n",
    "            X = X.str.replace(r\"@\\S+\", \"\")\n",
    "            X = X.str.replace(r\"[^A-Za-z0-9(),!?@\\'\\`\\\"\\_\\n]\", \" \")\n",
    "            X = X.str.replace(r\"@\", \"at\")\n",
    "            X = X.str.lower()\n",
    "            return X\n",
    "        "
   ]
  },
  {
   "cell_type": "code",
   "execution_count": 25,
   "metadata": {},
   "outputs": [
    {
     "data": {
      "application/javascript": [
       "\n",
       "        if (window._pyforest_update_imports_cell) { window._pyforest_update_imports_cell('from sklearn import svm'); }\n",
       "    "
      ],
      "text/plain": [
       "<IPython.core.display.Javascript object>"
      ]
     },
     "metadata": {},
     "output_type": "display_data"
    }
   ],
   "source": [
    "pipe = Pipeline(verbose = True, steps = [('preprocessing', preprocess_text()),\n",
    "                         ('tfidf',TfidfVectorizer()),\n",
    "                          ('model', svm.SVC(C=1, cache_size=200, class_weight=None, coef0=0.0, decision_function_shape='ovr', degree=2, gamma=0.1, kernel='linear',\n",
    "                                      max_iter=-1, probability=False, random_state=42, shrinking=True, tol=0.001, verbose=False))])"
   ]
  },
  {
   "cell_type": "code",
   "execution_count": 26,
   "metadata": {},
   "outputs": [
    {
     "name": "stdout",
     "output_type": "stream",
     "text": [
      "[Pipeline] ..... (step 1 of 3) Processing preprocessing, total=   0.1s\n",
      "[Pipeline] ............. (step 2 of 3) Processing tfidf, total=   0.1s\n",
      "[Pipeline] ............. (step 3 of 3) Processing model, total=   0.2s\n"
     ]
    },
    {
     "data": {
      "text/plain": [
       "Pipeline(memory=None,\n",
       "         steps=[('preprocessing', preprocess_text()),\n",
       "                ('tfidf',\n",
       "                 TfidfVectorizer(analyzer='word', binary=False,\n",
       "                                 decode_error='strict',\n",
       "                                 dtype=<class 'numpy.float64'>,\n",
       "                                 encoding='utf-8', input='content',\n",
       "                                 lowercase=True, max_df=1.0, max_features=None,\n",
       "                                 min_df=1, ngram_range=(1, 1), norm='l2',\n",
       "                                 preprocessor=None, smooth_idf=True,\n",
       "                                 stop_words=None, strip_accents=None,\n",
       "                                 sublinear_tf=False,\n",
       "                                 token_pattern='(?u)\\\\b\\\\w\\\\w+\\\\b',\n",
       "                                 tokenizer=None, use_idf=True,\n",
       "                                 vocabulary=None)),\n",
       "                ('model',\n",
       "                 SVC(C=1, break_ties=False, cache_size=200, class_weight=None,\n",
       "                     coef0=0.0, decision_function_shape='ovr', degree=2,\n",
       "                     gamma=0.1, kernel='linear', max_iter=-1, probability=False,\n",
       "                     random_state=42, shrinking=True, tol=0.001,\n",
       "                     verbose=False))],\n",
       "         verbose=True)"
      ]
     },
     "execution_count": 26,
     "metadata": {},
     "output_type": "execute_result"
    }
   ],
   "source": [
    "pipe.fit(X_train,y_train)"
   ]
  },
  {
   "cell_type": "code",
   "execution_count": 27,
   "metadata": {},
   "outputs": [],
   "source": [
    "pipe_prediction = pipe.predict(X_test)"
   ]
  },
  {
   "cell_type": "code",
   "execution_count": 28,
   "metadata": {},
   "outputs": [
    {
     "name": "stdout",
     "output_type": "stream",
     "text": [
      "[[354  17]\n",
      " [ 51  71]]\n",
      "\n",
      "\n",
      "\n",
      "              precision    recall  f1-score   support\n",
      "\n",
      "           0       0.87      0.95      0.91       371\n",
      "           1       0.81      0.58      0.68       122\n",
      "\n",
      "    accuracy                           0.86       493\n",
      "   macro avg       0.84      0.77      0.79       493\n",
      "weighted avg       0.86      0.86      0.85       493\n",
      "\n"
     ]
    }
   ],
   "source": [
    "print(confusion_matrix(y_test,pipe_prediction))\n",
    "print(\"\\n\\n\")\n",
    "print(classification_report(y_test,pipe_prediction))"
   ]
  },
  {
   "cell_type": "code",
   "execution_count": 29,
   "metadata": {},
   "outputs": [
    {
     "data": {
      "text/plain": [
       "array([1], dtype=int64)"
      ]
     },
     "execution_count": 29,
     "metadata": {},
     "output_type": "execute_result"
    }
   ],
   "source": [
    "pipe.predict(pd.Series(['Apple does work in a good manner']))\n"
   ]
  },
  {
   "cell_type": "markdown",
   "metadata": {},
   "source": [
    "## Saving the Model"
   ]
  },
  {
   "cell_type": "code",
   "execution_count": 30,
   "metadata": {},
   "outputs": [],
   "source": [
    "import pickle\n",
    " \n",
    "pickle.dump(model_best, open('model.pkl', 'wb'))\n",
    "\n",
    "ml_model = pickle.load(open('model.pkl', 'rb'))\n"
   ]
  },
  {
   "cell_type": "code",
   "execution_count": 31,
   "metadata": {},
   "outputs": [],
   "source": [
    "pickle.dump(pipe, open('pipe.pkl','wb'))\n",
    "\n",
    "ml_pipe = pickle.load(open('pipe.pkl', 'rb'))"
   ]
  },
  {
   "cell_type": "code",
   "execution_count": 32,
   "metadata": {},
   "outputs": [
    {
     "data": {
      "text/plain": [
       "SVC(C=1, break_ties=False, cache_size=200, class_weight=None, coef0=0.0,\n",
       "    decision_function_shape='ovr', degree=2, gamma=0.1, kernel='linear',\n",
       "    max_iter=-1, probability=False, random_state=42, shrinking=True, tol=0.001,\n",
       "    verbose=False)"
      ]
     },
     "execution_count": 32,
     "metadata": {},
     "output_type": "execute_result"
    }
   ],
   "source": [
    "ml_model"
   ]
  },
  {
   "cell_type": "code",
   "execution_count": 33,
   "metadata": {},
   "outputs": [
    {
     "name": "stderr",
     "output_type": "stream",
     "text": [
      "[Parallel(n_jobs=-1)]: Using backend LokyBackend with 4 concurrent workers.\n"
     ]
    },
    {
     "name": "stdout",
     "output_type": "stream",
     "text": [
      "\n",
      "Confusion matrix = \n",
      " [[1172   47]\n",
      " [ 235  188]]\n",
      "Accuracy of model =  0.8282582216808769\n"
     ]
    },
    {
     "name": "stderr",
     "output_type": "stream",
     "text": [
      "[Parallel(n_jobs=-1)]: Done  10 out of  10 | elapsed:    1.0s finished\n"
     ]
    }
   ],
   "source": [
    "prediction = cross_val_predict(ml_model,X_tfidf,y, cv=10, verbose = 1,n_jobs =-1)\n",
    " \n",
    "## Confusion matrix\n",
    "conf_mat = confusion_matrix(y, prediction)\n",
    "print('\\nConfusion matrix = \\n', conf_mat)\n",
    " \n",
    "## Accuracy\n",
    "print(\"Accuracy of model = \",metrics.accuracy_score(y, prediction))\n"
   ]
  },
  {
   "cell_type": "code",
   "execution_count": 34,
   "metadata": {},
   "outputs": [
    {
     "name": "stderr",
     "output_type": "stream",
     "text": [
      "[Parallel(n_jobs=-1)]: Using backend LokyBackend with 4 concurrent workers.\n"
     ]
    },
    {
     "name": "stdout",
     "output_type": "stream",
     "text": [
      "\n",
      "Confusion matrix = \n",
      " [[1156   63]\n",
      " [ 219  204]]\n",
      "Accuracy of model =  0.8282582216808769\n"
     ]
    },
    {
     "name": "stderr",
     "output_type": "stream",
     "text": [
      "[Parallel(n_jobs=-1)]: Done  10 out of  10 | elapsed:    1.4s finished\n"
     ]
    }
   ],
   "source": [
    "prediction = cross_val_predict(ml_pipe,X,y, cv=10, verbose = 1,n_jobs =-1)\n",
    " \n",
    "## Confusion matrix\n",
    "conf_mat = confusion_matrix(y, prediction)\n",
    "print('\\nConfusion matrix = \\n', conf_mat)\n",
    " \n",
    "## Accuracy\n",
    "print(\"Accuracy of model = \",metrics.accuracy_score(y, prediction))\n"
   ]
  },
  {
   "cell_type": "markdown",
   "metadata": {},
   "source": [
    "## Conclusion"
   ]
  },
  {
   "cell_type": "markdown",
   "metadata": {},
   "source": [
    "* We built a linear model that predicts the sentiment of tweets about Apple at around 83% accuracy. \n",
    "* The Confusion Matrix showed a tendency towards false negatives. Lastly we showed that the model succesfully inferred the importance of some english words to twitter sentiment.\n",
    "* More and better data is needed to improve the model accuracy and also reduce it's bias to negative tweets."
   ]
  }
 ],
 "metadata": {
  "kernelspec": {
   "display_name": "Python 3",
   "language": "python",
   "name": "python3"
  },
  "language_info": {
   "codemirror_mode": {
    "name": "ipython",
    "version": 3
   },
   "file_extension": ".py",
   "mimetype": "text/x-python",
   "name": "python",
   "nbconvert_exporter": "python",
   "pygments_lexer": "ipython3",
   "version": "3.7.7"
  }
 },
 "nbformat": 4,
 "nbformat_minor": 2
}
